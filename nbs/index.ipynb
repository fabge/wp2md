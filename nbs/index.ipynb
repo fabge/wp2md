{
 "cells": [
  {
   "cell_type": "code",
   "execution_count": 1,
   "metadata": {},
   "outputs": [],
   "source": [
    "#hide\n",
    "from fastcore.utils import Path"
   ]
  },
  {
   "cell_type": "markdown",
   "metadata": {},
   "source": [
    "# wp2md\n",
    "\n",
    "> Convert Wordpress Posts To Markdown"
   ]
  },
  {
   "cell_type": "markdown",
   "metadata": {},
   "source": [
    "[![CI](https://github.com/outerbounds/wp2md/actions/workflows/main.yml/badge.svg)](https://github.com/outerbounds/wp2md/actions/workflows/main.yml)"
   ]
  },
  {
   "cell_type": "markdown",
   "metadata": {},
   "source": [
    "## Install"
   ]
  },
  {
   "cell_type": "markdown",
   "metadata": {},
   "source": [
    "`pip install wp2md`"
   ]
  },
  {
   "cell_type": "markdown",
   "metadata": {},
   "source": [
    "## Usage"
   ]
  },
  {
   "cell_type": "markdown",
   "metadata": {},
   "source": [
    "`wp2md` is a simple command line tool."
   ]
  },
  {
   "cell_type": "code",
   "execution_count": 2,
   "metadata": {},
   "outputs": [
    {
     "name": "stdout",
     "output_type": "stream",
     "text": [
      "usage: wp2md [-h] [--apiurl APIURL] [--dest_path DEST_PATH]\n",
      "             [--dest_file DEST_FILE] [--no_download]\n",
      "             url_or_id\n",
      "\n",
      "Convert A wordpress post into markdown file with front matter.\n",
      "\n",
      "positional arguments:\n",
      "  url_or_id              the public URL of the WP article OR the post id\n",
      "\n",
      "optional arguments:\n",
      "  -h, --help             show this help message and exit\n",
      "  --apiurl APIURL        the base url for the wordpress api to retrieve posts\n",
      "                         for your site. (default: https://outerbounds.com/wp-\n",
      "                         json/wp/v2/posts)\n",
      "  --dest_path DEST_PATH  The path to save the markdown file to (default: .)\n",
      "  --dest_file DEST_FILE  Name of destination markdown file. If not given\n",
      "                         defaults to the slug indicated in wordpress\n",
      "  --no_download          Pass this flag to NOT download any images locally\n",
      "                         (default: False)\n"
     ]
    }
   ],
   "source": [
    "!wp2md -h"
   ]
  },
  {
   "cell_type": "markdown",
   "metadata": {},
   "source": [
    "## Example 1: Public Posts\n",
    "\n",
    "To convert a wordpress post to markdown, simply point `wp2md` at the url for the post:"
   ]
  },
  {
   "cell_type": "code",
   "execution_count": 3,
   "metadata": {},
   "outputs": [
    {
     "name": "stdout",
     "output_type": "stream",
     "text": [
      "Writing: notebooks-in-production-with-metaflow.md\n"
     ]
    }
   ],
   "source": [
    "!wp2md \"https://outerbounds.com/blog/notebooks-in-production-with-metaflow/\""
   ]
  },
  {
   "cell_type": "markdown",
   "metadata": {},
   "source": [
    "The generated markdown looks like this:"
   ]
  },
  {
   "cell_type": "code",
   "execution_count": 4,
   "metadata": {},
   "outputs": [
    {
     "name": "stdout",
     "output_type": "stream",
     "text": [
      "---\n",
      "title: \"Notebooks In Production With Metaflow\"\n",
      "date: \"2022-02-09T22:59:06\"\n",
      "image: \"https://outerbounds.com/wp-content/uploads/2022/02/Screen-Shot-2022-02-09-at-12.45.20-pm-1024x525.png\"\n",
      "slug: \"notebooks-in-production-with-metaflow\"\n",
      "---\n",
      "\n",
      "\n",
      "By Hamel Husain\n",
      "\n",
      "\n",
      "*Learn how to use notebooks in production ML workflows with a new Metaflow feature*\n",
      "\n",
      "\n",
      "When building production-ready machine learning systems, it is critical to monitor the health and performance of those systems with reports and visualizations. Furthermore, allowing for rapid debugging and interactive introspection is critical when workflows fail or do unexpected things. Jupyter notebooks have often been a preferred tool of data scientists for these tasks of visualization, exploration, debugging, and rapid iteration.  Ironically, many production systems do not integrate appropriately with notebooks, which can significantly frustrate progress on these tasks.\n",
      "\n",
      "\n",
      "Indeed, in the field of data science tooling, one of the most [hotly-contested](https://mlops.community/jupyter-notebooks-in-production/) questions is whether notebooks are suitable for production use. We believe that tools should strive to meet data scientists where they are instead of forcing them to adapt approaches from other disciplines not suited to their needs. This is why we are excited to introduce **Notebook Cards**, which allow data scientists to use notebooks for visualizing and debugging production workflows and help to bridge the MLOps divide between prototype and production. This allows data scientists to safely use notebooks for parts of their production workflows, without having to refactor code to conform to a different development environment. \n",
      "\n",
      "\n",
      "With notebook cards, Metaflow orchestrates notebook execution in a reproducible manner without compromising the integrity of your workflows.\n",
      "\n",
      "\n",
      "![](_notebooks-in-production-with-metaflow_data/0_img)A card rendered directly from a Jupyter Notebook in the [Metaflow GUI](https://netflixtechblog.com/open-sourcing-a-monitoring-gui-for-metaflow-75ff465f0d60).\n",
      "\n",
      "### From notebooks to production machine learning\n",
      "\n",
      "\n",
      "[Metaflow](https://docs.metaflow.org/) is an ergonomic Python framework created at Netflix for building production ML systems. The data team at Netflix is also famous [for notebook innovation](https://netflixtechblog.com/notebook-innovation-591ee3221233) in data science workflows.  This notebook innovation was revolutionary because it provided mechanisms to integrate notebooks into production data science workflows by providing the [following features](https://netflixtechblog.com/scheduling-notebooks-348e6c14cfd6):\n",
      "\n"
     ]
    }
   ],
   "source": [
    "!cat notebooks-in-production-with-metaflow.md | head -n30"
   ]
  },
  {
   "cell_type": "markdown",
   "metadata": {},
   "source": [
    "## Example 2: Hidden Posts & Downloading Images\n",
    "\n",
    "A Wordpress post may note be public (i.e. it might have a status other than `published`).  In that case, you will need two pieces of information to retrieve the markdown content for that post. \n",
    "\n",
    "1. The url for the api.  This is `<your_site>/wp-json/v2/posts`, for example `https://outerbounds.com/wp-json/wp/v2/posts`.  Note: _This is [the api route to retrieve a single WP post](https://developer.wordpress.org/rest-api/reference/posts/#retrieve-a-post)._\n",
    "\n",
    "2. The `post id` you wish to convert to markdown. The post id can be extracted from wordpress edit url, for example the id for `https://outerbounds.com/wp-admin/post.php?post=220&action=edit` is `220`.\n",
    "\n",
    "For example, we can get the contents of a post which has an id of `220` as follows:"
   ]
  },
  {
   "cell_type": "code",
   "execution_count": 5,
   "metadata": {},
   "outputs": [
    {
     "name": "stdout",
     "output_type": "stream",
     "text": [
      "Writing: notebooks-in-production-with-metaflow.md\n"
     ]
    }
   ],
   "source": [
    "! wp2md 220"
   ]
  },
  {
   "cell_type": "markdown",
   "metadata": {},
   "source": [
    "By default, `wp2md` downloads images locally into a folder named `_<name_of_markdown_file>_data/`.  "
   ]
  },
  {
   "cell_type": "code",
   "execution_count": 6,
   "metadata": {},
   "outputs": [
    {
     "name": "stdout",
     "output_type": "stream",
     "text": [
      "0_img 1_img 2_img 3_img 4_img\n"
     ]
    }
   ],
   "source": [
    "!ls _notebooks-in-production-with-metaflow_data/"
   ]
  },
  {
   "cell_type": "markdown",
   "metadata": {},
   "source": [
    "You can prevent this by passing the `--no_download` flag:"
   ]
  },
  {
   "cell_type": "code",
   "execution_count": 7,
   "metadata": {},
   "outputs": [
    {
     "name": "stdout",
     "output_type": "stream",
     "text": [
      "Writing: notebooks-in-production-with-metaflow.md\n"
     ]
    }
   ],
   "source": [
    "# Get rid of all artificats first\n",
    "!rm notebooks-in-production-with-metaflow.md\n",
    "!rm -rf _notebooks-in-production-with-metaflow_data/\n",
    "\n",
    "! wp2md 220 --no_download"
   ]
  },
  {
   "cell_type": "code",
   "execution_count": 8,
   "metadata": {},
   "outputs": [],
   "source": [
    "assert not Path('_notebooks-in-production-with-metaflow_data/').exists()"
   ]
  },
  {
   "cell_type": "code",
   "execution_count": 9,
   "metadata": {},
   "outputs": [],
   "source": [
    "#hide\n",
    "#notest\n",
    "!rm notebooks-in-production-with-metaflow.md\n",
    "!rm -rf _notebooks-in-production-with-metaflow_data/"
   ]
  }
 ],
 "metadata": {
  "kernelspec": {
   "display_name": "Python 3 (ipykernel)",
   "language": "python",
   "name": "python3"
  },
  "language_info": {
   "codemirror_mode": {
    "name": "ipython",
    "version": 3
   },
   "file_extension": ".py",
   "mimetype": "text/x-python",
   "name": "python",
   "nbconvert_exporter": "python",
   "pygments_lexer": "ipython3",
   "version": "3.9.7"
  }
 },
 "nbformat": 4,
 "nbformat_minor": 4
}
