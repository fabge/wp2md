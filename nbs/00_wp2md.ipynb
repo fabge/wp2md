{
 "cells": [
  {
   "cell_type": "code",
   "execution_count": 1,
   "metadata": {},
   "outputs": [],
   "source": [
    "# default_exp wp2md"
   ]
  },
  {
   "cell_type": "markdown",
   "metadata": {},
   "source": [
    "# wp2md\n",
    "\n",
    "> Convert Wordpress to Markdown Files"
   ]
  },
  {
   "cell_type": "code",
   "execution_count": 2,
   "metadata": {},
   "outputs": [],
   "source": [
    "#export\n",
    "from fastcore.utils import urljson, AttrDict, Path, first, test_eq\n",
    "from fastcore.script import call_parse\n",
    "from IPython.display import Markdown\n",
    "from markdownify import markdownify as md"
   ]
  },
  {
   "cell_type": "code",
   "execution_count": 3,
   "metadata": {},
   "outputs": [],
   "source": [
    "#hide\n",
    "from nbdev.showdoc import *"
   ]
  },
  {
   "cell_type": "code",
   "execution_count": 4,
   "metadata": {},
   "outputs": [],
   "source": [
    "#export\n",
    "def _getpost(post_id:int, baseurl:str):\n",
    "    return AttrDict(urljson(f'{baseurl}/{post_id}'))"
   ]
  },
  {
   "cell_type": "code",
   "execution_count": 5,
   "metadata": {},
   "outputs": [],
   "source": [
    "_post = _getpost(247, 'https://outerbounds.com/wp-json/wp/v2/posts')\n",
    "assert _post"
   ]
  },
  {
   "cell_type": "code",
   "execution_count": 6,
   "metadata": {},
   "outputs": [],
   "source": [
    "#export\n",
    "class WP:\n",
    "    def __init__(self, id:int, baseurl:str):\n",
    "        self.post = _getpost(id, baseurl=baseurl)\n",
    "        \n",
    "    _props = ['title', 'date', 'tags', 'draft', 'description', 'image', 'slug']\n",
    "              \n",
    "    @property\n",
    "    def draft(self) -> str: \n",
    "        return str(self.post.draft != 'publish').lower()\n",
    "    \n",
    "    @property\n",
    "    def title(self) -> str:\n",
    "        title = self.post.get('title', None)\n",
    "        return title.get('rendered', None) if title else title\n",
    "    \n",
    "    @property\n",
    "    def image(self) -> str:\n",
    "        img = self.post.get('uagb_featured_image_src', None)\n",
    "        return first(img.get('large', [])) if img else img\n",
    "    \n",
    "    @property\n",
    "    def frontmatter(self) -> str:\n",
    "        fm = '---\\n'\n",
    "        for p in self._props:\n",
    "            attr = getattr(self, p, None)\n",
    "            if attr: fm+=f'{p}: \"{attr}\"\\n'\n",
    "        return fm+'---\\n'\n",
    "    \n",
    "    def __getattr__(self, name):\n",
    "        return self.post.get(name, None)\n",
    "    \n",
    "    @property\n",
    "    def markdown(self) -> str: \n",
    "        \"Return the markdown representation of the body of the post.\"\n",
    "        return self.frontmatter + md(self.post.content['rendered'])\n",
    "\n",
    "    def tomd(self, dest_path:str=None, dest_file:str=None) -> None:\n",
    "        \"Write markdown representation of wordpress post\"\n",
    "        if not dest_path: dest_path = '.'\n",
    "        if not dest_file: dest_file = self.slug+'.md'\n",
    "        p = Path(dest_path)/dest_file\n",
    "        print(f'Writing: {p}')\n",
    "        p.write_text(self.markdown)"
   ]
  },
  {
   "cell_type": "markdown",
   "metadata": {},
   "source": [
    "Instantiating a `WP` object will allow you to get access to useful properties that can render as front matter.  The postid can be extracted from wordpress edit url, for example the id for `https://outerbounds.com/wp-admin/post.php?post=220&action=edit` is `220`."
   ]
  },
  {
   "cell_type": "code",
   "execution_count": 7,
   "metadata": {},
   "outputs": [
    {
     "name": "stdout",
     "output_type": "stream",
     "text": [
      "---\n",
      "title: \"Notebooks In Production With Metaflow\"\n",
      "date: \"2022-02-09T22:59:06\"\n",
      "image: \"https://outerbounds.com/wp-content/uploads/2022/02/Screen-Shot-2022-02-09-at-12.45.20-pm-1024x525.png\"\n",
      "slug: \"notebooks-in-production-with-metaflow\"\n",
      "---\n",
      "\n"
     ]
    }
   ],
   "source": [
    "_post = WP(id=220, baseurl='https://outerbounds.com/wp-json/wp/v2/posts')\n",
    "print(_post.frontmatter)"
   ]
  },
  {
   "cell_type": "code",
   "execution_count": 8,
   "metadata": {},
   "outputs": [],
   "source": [
    "_result=\"\"\"---\n",
    "title: \"Notebooks In Production With Metaflow\"\n",
    "date: \"2022-02-09T22:59:06\"\n",
    "image: \"https://outerbounds.com/wp-content/uploads/2022/02/Screen-Shot-2022-02-09-at-12.45.20-pm-1024x525.png\"\n",
    "slug: \"notebooks-in-production-with-metaflow\"\n",
    "---\n",
    "\"\"\"\n",
    "test_eq(_post.frontmatter, _result)"
   ]
  },
  {
   "cell_type": "markdown",
   "metadata": {},
   "source": [
    "The markdown representation is also available as a property (below we print the first 1,000 characters:"
   ]
  },
  {
   "cell_type": "code",
   "execution_count": 9,
   "metadata": {},
   "outputs": [
    {
     "name": "stdout",
     "output_type": "stream",
     "text": [
      "---\n",
      "title: \"Notebooks In Production With Metaflow\"\n",
      "date: \"2022-02-09T22:59:06\"\n",
      "image: \"https://outerbounds.com/wp-content/uploads/2022/02/Screen-Shot-2022-02-09-at-12.45.20-pm-1024x525.png\"\n",
      "slug: \"notebooks-in-production-with-metaflow\"\n",
      "---\n",
      "\n",
      "\n",
      "By Hamel Husain\n",
      "\n",
      "\n",
      "*Learn how to use notebooks in production ML workflows with a new Metaflow feature*\n",
      "\n",
      "\n",
      "When building production-ready machine learning systems, it is critical to monitor the health and performance of those systems with reports and visualizations. Furthermore, allowing for rapid debugging and interactive introspection is critical when workflows fail or do unexpected things. Jupyter notebooks have often been a preferred tool of data scientists for these tasks of visualization, exploration, debugging, and rapid iteration.  Ironically, many production systems do not integrate appropriately with notebooks, which can significantly frustrate progress on these tasks.\n",
      "\n",
      "\n",
      "Indeed, in the field of data science tooling, one of the most [hotly-contested](https://mlops.community/jupyter-notebooks-in-production/) questions is whether notebooks are suitable for production use. We believe that tools should strive to meet data scientists where the\n"
     ]
    }
   ],
   "source": [
    "print(_post.markdown[:1200])"
   ]
  },
  {
   "cell_type": "markdown",
   "metadata": {},
   "source": [
    "## CLI Utility For Wordpress To Markdown"
   ]
  },
  {
   "cell_type": "code",
   "execution_count": 10,
   "metadata": {},
   "outputs": [],
   "source": [
    "#export\n",
    "@call_parse\n",
    "def wp2md(id:int, \n",
    "          baseurl:str='https://outerbounds.com/wp-json/wp/v2/posts', # the baseurl that corresponds to the wp api\n",
    "          dest_path:str='.', # The path to save the markdown file to\n",
    "          dest_file:str=None # Optional, if not given defaults to the slug indicated in wordpress\n",
    "         ):\n",
    "    \"Convert A wordpress post into markdown file with front matter.\"\n",
    "    post = WP(id=id, baseurl=baseurl)\n",
    "    post.tomd(dest_path=dest_path, dest_file=dest_file)"
   ]
  },
  {
   "cell_type": "code",
   "execution_count": null,
   "metadata": {},
   "outputs": [],
   "source": []
  }
 ],
 "metadata": {
  "kernelspec": {
   "display_name": "Python 3 (ipykernel)",
   "language": "python",
   "name": "python3"
  },
  "language_info": {
   "codemirror_mode": {
    "name": "ipython",
    "version": 3
   },
   "file_extension": ".py",
   "mimetype": "text/x-python",
   "name": "python",
   "nbconvert_exporter": "python",
   "pygments_lexer": "ipython3",
   "version": "3.9.7"
  }
 },
 "nbformat": 4,
 "nbformat_minor": 4
}
